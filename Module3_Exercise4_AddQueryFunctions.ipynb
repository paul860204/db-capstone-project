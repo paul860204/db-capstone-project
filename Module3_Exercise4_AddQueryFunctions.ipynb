{
 "cells": [
  {
   "cell_type": "code",
   "execution_count": 1,
   "id": "bad72da6-b9e2-4348-a05b-d70cd56922df",
   "metadata": {},
   "outputs": [],
   "source": [
    "# Module 3\n",
    "# Topic - Database client\n",
    "#Exercise 2 - Add query functions"
   ]
  },
  {
   "cell_type": "code",
   "execution_count": 2,
   "id": "7350e7f9-17e7-4a98-b6a6-7b1459804201",
   "metadata": {},
   "outputs": [],
   "source": [
    "# Task 1 - extending the environment to connect with your database and interact with the data it holds"
   ]
  },
  {
   "cell_type": "code",
   "execution_count": 3,
   "id": "b2919e0a-c96b-4527-92af-8e0caa4d3d71",
   "metadata": {},
   "outputs": [],
   "source": [
    "# Import MySQL Connector/Python \n",
    "import mysql.connector as connector"
   ]
  },
  {
   "cell_type": "code",
   "execution_count": 4,
   "id": "576d7e5b-6090-4834-8e56-58288395c8f2",
   "metadata": {},
   "outputs": [],
   "source": [
    "# Enter user details and connect with the database\n",
    "connection = connector.connect(\n",
    "    user='db_capstone',\n",
    "    password='MySQL@860204',\n",
    "    database='littlelemondb'\n",
    ")"
   ]
  },
  {
   "cell_type": "code",
   "execution_count": 5,
   "id": "116bae84-afcc-49de-96e0-e016f21767df",
   "metadata": {},
   "outputs": [
    {
     "name": "stdout",
     "output_type": "stream",
     "text": [
      "Cursor is created to communicate with the MySQL using Python.\n"
     ]
    }
   ],
   "source": [
    "# Create cursor object to communicate with entire MySQL database\n",
    "cursor = connection.cursor()\n",
    "print(\"Cursor is created to communicate with the MySQL using Python.\")"
   ]
  },
  {
   "cell_type": "code",
   "execution_count": 6,
   "id": "02edc96e-a948-4f1a-8cb3-a6a3d44c0269",
   "metadata": {},
   "outputs": [
    {
     "name": "stdout",
     "output_type": "stream",
     "text": [
      "The database little lemon is set for use.\n"
     ]
    }
   ],
   "source": [
    "# Set little lemon database for use \n",
    "cursor.execute(\"USE littlelemondb\")\n",
    "print(\"The database little lemon is set for use.\")"
   ]
  },
  {
   "cell_type": "code",
   "execution_count": 7,
   "id": "e4af942b-1e26-4aed-935d-49a5c539a1f0",
   "metadata": {},
   "outputs": [
    {
     "data": {
      "text/plain": [
       "'littlelemondb'"
      ]
     },
     "execution_count": 7,
     "metadata": {},
     "output_type": "execute_result"
    }
   ],
   "source": [
    "# Confirm the database in use\n",
    "connection.database"
   ]
  },
  {
   "cell_type": "code",
   "execution_count": 8,
   "id": "782357b1-81bd-43fb-98b8-2484f16f3add",
   "metadata": {},
   "outputs": [],
   "source": [
    "# Task 2 - to query the database to show all tables within the database"
   ]
  },
  {
   "cell_type": "code",
   "execution_count": 9,
   "id": "360f40a5-3b4a-4515-a9d2-7cb20b9591d1",
   "metadata": {},
   "outputs": [],
   "source": [
    "# Define and execute the query to show tables\n",
    "query_show_tables = \"SHOW TABLES\"\n",
    "cursor.execute(query_show_tables)"
   ]
  },
  {
   "cell_type": "code",
   "execution_count": 10,
   "id": "df9a7f0a-453c-4f2e-a1bf-0b6ebb1f2ee6",
   "metadata": {},
   "outputs": [],
   "source": [
    "# Fetch the results\n",
    "results = cursor.fetchall()"
   ]
  },
  {
   "cell_type": "code",
   "execution_count": 11,
   "id": "39b09a9e-fdc8-4786-aa83-d33387bee6bf",
   "metadata": {},
   "outputs": [
    {
     "name": "stdout",
     "output_type": "stream",
     "text": [
      "('Tables_in_littlelemondb',)\n",
      "('bookings',)\n",
      "('customers',)\n",
      "('employees',)\n",
      "('menuitems',)\n",
      "('menus',)\n",
      "('orderdeliverystatus',)\n",
      "('orders',)\n",
      "('ordersview',)\n"
     ]
    }
   ],
   "source": [
    "# Display column names and the records\n",
    "columns=cursor.column_names\n",
    "print(columns)\n",
    "for result in results:\n",
    "    print(result)"
   ]
  },
  {
   "cell_type": "code",
   "execution_count": 12,
   "id": "0ec60051-18c1-41a5-a650-c17233ba3ddf",
   "metadata": {},
   "outputs": [],
   "source": [
    "# Task 3 - to return specific details from your database.\n",
    "# They require the full name and contact details for every customer that has placed an order greater than $60 for a promotional campaign. "
   ]
  },
  {
   "cell_type": "code",
   "execution_count": 13,
   "id": "87f631ed-e8d9-485d-b308-af4bf6487f8a",
   "metadata": {},
   "outputs": [],
   "source": [
    "# Define the query to join tables and filter results\n",
    "query = \"\"\"\n",
    "SELECT c.FullName, c.PhoneNumber, o.TotalCost\n",
    "FROM customers as c\n",
    "INNER JOIN orders as o\n",
    "ON c.CustomerID = o.CustomerID\n",
    "WHERE o.TotalCost > 60;\n",
    "\"\"\""
   ]
  },
  {
   "cell_type": "code",
   "execution_count": 14,
   "id": "df8baa70-de9d-42cd-9c1b-3cbbab80c3de",
   "metadata": {},
   "outputs": [],
   "source": [
    "# Execute the query\n",
    "cursor.execute(query)"
   ]
  },
  {
   "cell_type": "code",
   "execution_count": 15,
   "id": "d67fe97f-1124-4ebe-84b5-f2340ffbee95",
   "metadata": {},
   "outputs": [],
   "source": [
    "# Fetch the results\n",
    "results = cursor.fetchall()"
   ]
  },
  {
   "cell_type": "code",
   "execution_count": 16,
   "id": "17e3050a-0656-4205-a2fa-d200cd65a15c",
   "metadata": {},
   "outputs": [
    {
     "name": "stdout",
     "output_type": "stream",
     "text": [
      "('FullName', 'PhoneNumber', 'TotalCost')\n",
      "('Anna\\xa0Iversen', '757536375', 160)\n",
      "('Vanessa\\xa0McCarthy', '757536378', 74)\n",
      "('Marcos\\xa0Romero', '757536379', 111)\n"
     ]
    }
   ],
   "source": [
    "# Display column names and the records\n",
    "columns=cursor.column_names\n",
    "print(columns)\n",
    "for result in results:\n",
    "    print(result)"
   ]
  },
  {
   "cell_type": "code",
   "execution_count": 17,
   "id": "0ba42a16-73ff-421b-95fa-8d88869f812e",
   "metadata": {},
   "outputs": [],
   "source": [
    "# Close the cursor and connection\n",
    "cursor.close()\n",
    "connection.close()"
   ]
  }
 ],
 "metadata": {
  "kernelspec": {
   "display_name": "Python 3 (ipykernel)",
   "language": "python",
   "name": "python3"
  },
  "language_info": {
   "codemirror_mode": {
    "name": "ipython",
    "version": 3
   },
   "file_extension": ".py",
   "mimetype": "text/x-python",
   "name": "python",
   "nbconvert_exporter": "python",
   "pygments_lexer": "ipython3",
   "version": "3.11.7"
  }
 },
 "nbformat": 4,
 "nbformat_minor": 5
}
